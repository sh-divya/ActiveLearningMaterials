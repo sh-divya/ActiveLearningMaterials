{
 "cells": [
  {
   "cell_type": "code",
   "execution_count": 1,
   "metadata": {
    "metadata": {}
   },
   "outputs": [
    {
     "name": "stderr",
     "output_type": "stream",
     "text": [
      "/home/minion/anaconda3/envs/materials/lib/python3.9/site-packages/tqdm/auto.py:21: TqdmWarning: IProgress not found. Please update jupyter and ipywidgets. See https://ipywidgets.readthedocs.io/en/stable/user_install.html\n",
      "  from .autonotebook import tqdm as notebook_tqdm\n"
     ]
    }
   ],
   "source": [
    "from dave.proxies.data import CrystalFeat\n",
    "from sklearn.ensemble import RandomForestRegressor\n",
    "from sklearn.neural_network import MLPRegressor\n",
    "from sklearn.model_selection import GridSearchCV\n",
    "from sklearn.model_selection import cross_validate\n",
    "from pathlib import Path\n",
    "import torch\n",
    "import numpy as np"
   ]
  },
  {
   "cell_type": "code",
   "execution_count": 2,
   "metadata": {
    "metadata": {}
   },
   "outputs": [
    {
     "name": "stdout",
     "output_type": "stream",
     "text": [
      "/home/minion/Downloads/ic_data/nrcc_ionic_conductivity\n"
     ]
    }
   ],
   "source": [
    "BASE_PATH = Path(\".\").resolve().parent\n",
    "DATA_PATH = BASE_PATH.parent / \"ic_data\" / \"nrcc_ionic_conductivity\"\n",
    "print(DATA_PATH)"
   ]
  },
  {
   "cell_type": "code",
   "execution_count": 16,
   "metadata": {
    "metadata": {}
   },
   "outputs": [
    {
     "name": "stdout",
     "output_type": "stream",
     "text": [
      "86.0\n"
     ]
    }
   ],
   "source": [
    "x_mean = torch.load(str(DATA_PATH / \"x.mean\"))\n",
    "x_std = torch.load(str(DATA_PATH / \"x.std\"))\n",
    "\n",
    "trainset = CrystalFeat(root=str(DATA_PATH), target=\"Ionic conductivity (S cm-1)\", subset=\"train\", scalex={\"mean\":x_mean, \"std\":x_std})\n",
    "x_train = []\n",
    "y_train = []\n",
    "\n",
    "for i, (x, y) in enumerate(trainset):\n",
    "    a, b, c = x\n",
    "    # print(a[a != 0])\n",
    "    # if i == 10:\n",
    "    #     break\n",
    "    b = b.unsqueeze(-1)\n",
    "    x = torch.cat((a, b, c), dim=-1)\n",
    "    x_train.append(x.numpy())\n",
    "    y_train.append(y.numpy())\n",
    "idx = np.arange(len(x_train))\n",
    "print(max(idx) / 5)\n",
    "np.random.shuffle(idx)\n",
    "x_train = np.array(x_train)[idx]\n",
    "y_train = np.array(y_train)[idx]"
   ]
  },
  {
   "cell_type": "code",
   "execution_count": 25,
   "metadata": {
    "metadata": {}
   },
   "outputs": [
    {
     "name": "stdout",
     "output_type": "stream",
     "text": [
      "1.3860985837983129\n"
     ]
    }
   ],
   "source": [
    "# hparams = {\n",
    "#     \"n_estimators\": [50, 100, 150],\n",
    "#     \"max_depth\": [12, 24, 36],\n",
    "#     \"max_features\": [\"log2\", \"sqrt\"],\n",
    "#     \"min_samples_leaf\": [2, 3, 4, 5]\n",
    "# }\n",
    "\n",
    "hparams = {\n",
    "    'max_depth': 12,\n",
    "    'max_features': 'sqrt',\n",
    "    'min_samples_leaf': 2,\n",
    "    'n_estimators': 50\n",
    "}\n",
    "\n",
    "model = RandomForestRegressor(**hparams)\n",
    "res = cross_validate(model, x_train, y_train, cv=5, scoring=\"neg_mean_absolute_error\")\n",
    "print(-np.mean((res[\"test_score\"])))\n",
    "# gs = GridSearchCV(estimator=model, param_grid=hparams, cv=5, scoring=\"\")\n",
    "# gs.fit(x_train, y_train)\n",
    "# best = gs.best_score_\n",
    "# print(best)\n",
    "# print(gs.best_estimator_)\n",
    "# print(gs.best_params_)\n",
    "# y_train = np.array(y_train).reshape(-1, 1)\n",
    "# y_pred = model.predict(x_train)\n"
   ]
  },
  {
   "cell_type": "code",
   "execution_count": 33,
   "metadata": {},
   "outputs": [
    {
     "name": "stderr",
     "output_type": "stream",
     "text": [
      "/home/minion/anaconda3/envs/materials/lib/python3.9/site-packages/sklearn/neural_network/_multilayer_perceptron.py:690: ConvergenceWarning: Stochastic Optimizer: Maximum iterations (40) reached and the optimization hasn't converged yet.\n",
      "  warnings.warn(\n",
      "/home/minion/anaconda3/envs/materials/lib/python3.9/site-packages/sklearn/neural_network/_multilayer_perceptron.py:690: ConvergenceWarning: Stochastic Optimizer: Maximum iterations (40) reached and the optimization hasn't converged yet.\n",
      "  warnings.warn(\n",
      "/home/minion/anaconda3/envs/materials/lib/python3.9/site-packages/sklearn/neural_network/_multilayer_perceptron.py:690: ConvergenceWarning: Stochastic Optimizer: Maximum iterations (40) reached and the optimization hasn't converged yet.\n",
      "  warnings.warn(\n",
      "/home/minion/anaconda3/envs/materials/lib/python3.9/site-packages/sklearn/neural_network/_multilayer_perceptron.py:690: ConvergenceWarning: Stochastic Optimizer: Maximum iterations (40) reached and the optimization hasn't converged yet.\n",
      "  warnings.warn(\n"
     ]
    },
    {
     "name": "stdout",
     "output_type": "stream",
     "text": [
      "1.7561132192611695\n"
     ]
    },
    {
     "name": "stderr",
     "output_type": "stream",
     "text": [
      "/home/minion/anaconda3/envs/materials/lib/python3.9/site-packages/sklearn/neural_network/_multilayer_perceptron.py:690: ConvergenceWarning: Stochastic Optimizer: Maximum iterations (40) reached and the optimization hasn't converged yet.\n",
      "  warnings.warn(\n"
     ]
    }
   ],
   "source": [
    "hparams = {\n",
    "    \"hidden_layer_sizes\": [128, 128, 128, 128, 128],\n",
    "    \"activation\": \"relu\",\n",
    "    \"solver\": \"adam\",\n",
    "    \"learning_rate_init\": 0.003,\n",
    "    # \"validation_fraction\" :0.2,\n",
    "    \"batch_size\": 128,\n",
    "    \"max_iter\": 40,\n",
    "    \"learning_rate\": \"adaptive\"\n",
    "}\n",
    "\n",
    "model = MLPRegressor(**hparams)\n",
    "res = cross_validate(model, x_train, y_train, cv=5, scoring=\"neg_mean_absolute_error\")\n",
    "print(-np.mean((res[\"test_score\"])))\n",
    "# gs = GridSearchCV(estimator=model, param_grid=hparams, cv=5)\n",
    "# model.fit(x_train[-86:], y_train[-86:])\n",
    "# model.score(x_train[-86:], y_train[-86:])\n",
    "# best = gs.best_score_\n",
    "# print(best)\n",
    "# print(gs.best_estimator_)\n",
    "# print(gs.best_params_)"
   ]
  },
  {
   "cell_type": "code",
   "execution_count": 3,
   "metadata": {},
   "outputs": [
    {
     "name": "stderr",
     "output_type": "stream",
     "text": [
      "2024-05-28 21:20:14.802269: I tensorflow/core/platform/cpu_feature_guard.cc:193] This TensorFlow binary is optimized with oneAPI Deep Neural Network Library (oneDNN) to use the following CPU instructions in performance-critical operations:  AVX2 FMA\n",
      "To enable them in other operations, rebuild TensorFlow with the appropriate compiler flags.\n",
      "2024-05-28 21:20:15.459050: W tensorflow/compiler/xla/stream_executor/platform/default/dso_loader.cc:64] Could not load dynamic library 'libnvinfer.so.7'; dlerror: libnvinfer.so.7: cannot open shared object file: No such file or directory; LD_LIBRARY_PATH: /usr/local/openmpi/3.1.4/build/lib\n",
      "2024-05-28 21:20:15.459151: W tensorflow/compiler/xla/stream_executor/platform/default/dso_loader.cc:64] Could not load dynamic library 'libnvinfer_plugin.so.7'; dlerror: libnvinfer_plugin.so.7: cannot open shared object file: No such file or directory; LD_LIBRARY_PATH: /usr/local/openmpi/3.1.4/build/lib\n",
      "2024-05-28 21:20:15.459157: W tensorflow/compiler/tf2tensorrt/utils/py_utils.cc:38] TF-TRT Warning: Cannot dlopen some TensorRT libraries. If you would like to use Nvidia GPU with TensorRT, please make sure the missing libraries mentioned above are installed properly.\n"
     ]
    }
   ],
   "source": [
    "import numpy as np\n",
    "from matminer.datasets import load_dataset\n",
    "from modnet.models import MODNetModel\n",
    "from modnet.preprocessing import MODData\n",
    "from pymatgen.core import Composition"
   ]
  },
  {
   "cell_type": "code",
   "execution_count": 14,
   "metadata": {},
   "outputs": [],
   "source": [
    "df = load_dataset(\"matbench_expt_gap\")\n",
    "df[\"composition\"] = df[\"composition\"].map(Composition) # maps composition to a pymatgen composition object\n",
    "df = df.iloc[:10][:]\n",
    "# print(df['composition'].map(lambda x: x.get_el_amt_dict()))"
   ]
  },
  {
   "cell_type": "code",
   "execution_count": 15,
   "metadata": {},
   "outputs": [
    {
     "name": "stdout",
     "output_type": "stream",
     "text": [
      "2024-05-28 21:25:32,825 - modnet - INFO - Loaded CompositionOnlyMatminer2023Featurizer featurizer.\n"
     ]
    },
    {
     "name": "stderr",
     "output_type": "stream",
     "text": [
      "/home/minion/anaconda3/envs/materials/lib/python3.9/site-packages/matminer/utils/data.py:281: FutureWarning: The 'delim_whitespace' keyword in pd.read_csv is deprecated and will be removed in a future version. Use ``sep='\\s+'`` instead\n",
      "  mixing_dataset = pd.read_csv(\n"
     ]
    }
   ],
   "source": [
    "data = MODData(\n",
    "    materials=df[\"composition\"], # you can provide composition objects to MODData\n",
    "    targets=df[\"gap expt\"], \n",
    "    target_names=[\"gap_expt_eV\"]\n",
    ")"
   ]
  },
  {
   "cell_type": "code",
   "execution_count": 16,
   "metadata": {},
   "outputs": [
    {
     "name": "stdout",
     "output_type": "stream",
     "text": [
      "2024-05-28 21:25:42,381 - modnet - INFO - Computing features, this can take time...\n",
      "2024-05-28 21:25:42,383 - modnet - INFO - Applying composition featurizers...\n",
      "2024-05-28 21:25:42,386 - modnet - INFO - Applying featurizers (AtomicOrbitals(), AtomicPackingEfficiency(), BandCenter(), ElementFraction(), ElementProperty(data_source=<matminer.utils.data.MagpieData object at 0x7f1d72d38970>,\n",
      "                features=['Number', 'MendeleevNumber', 'AtomicWeight',\n",
      "                          'MeltingT', 'Column', 'Row', 'CovalentRadius',\n",
      "                          'Electronegativity', 'NsValence', 'NpValence',\n",
      "                          'NdValence', 'NfValence', 'NValence', 'NsUnfilled',\n",
      "                          'NpUnfilled', 'NdUnfilled', 'NfUnfilled', 'NUnfilled',\n",
      "                          'GSvolume_pa', 'GSbandgap', 'GSmagmom',\n",
      "                          'SpaceGroupNumber'],\n",
      "                stats=['minimum', 'maximum', 'range', 'mean', 'avg_dev',\n",
      "                       'mode']), IonProperty(), Miedema(ss_types=['min'], struct_types=['inter', 'amor', 'ss']), Stoichiometry(), TMetalFraction(), ValenceOrbital(), YangSolidSolution()) to column 'composition'.\n"
     ]
    },
    {
     "name": "stderr",
     "output_type": "stream",
     "text": [
      "MultipleFeaturizer: 100%|██████████| 10/10 [00:00<00:00, 97.09it/s]\n"
     ]
    },
    {
     "name": "stdout",
     "output_type": "stream",
     "text": [
      "2024-05-28 21:25:45,711 - modnet - INFO - Data has successfully been featurized!\n",
      "     AtomicOrbitals|HOMO_character  AtomicOrbitals|HOMO_element  \\\n",
      "id                                                                \n",
      "id0                              2                           16   \n",
      "id1                              3                           74   \n",
      "id2                              2                           16   \n",
      "id3                              2                           34   \n",
      "id4                              1                           47   \n",
      "id5                              3                           47   \n",
      "id6                              2                           16   \n",
      "id7                              2                           34   \n",
      "id8                              2                           53   \n",
      "id9                              3                           47   \n",
      "\n",
      "     AtomicOrbitals|HOMO_energy  AtomicOrbitals|LUMO_character  \\\n",
      "id                                                               \n",
      "id0                   -0.261676                              2   \n",
      "id1                   -0.220603                              3   \n",
      "id2                   -0.261676                              2   \n",
      "id3                   -0.245806                              2   \n",
      "id4                   -0.157407                              1   \n",
      "id5                   -0.298706                              3   \n",
      "id6                   -0.261676                              2   \n",
      "id7                   -0.245806                              2   \n",
      "id8                   -0.267904                              1   \n",
      "id9                   -0.298706                              2   \n",
      "\n",
      "     AtomicOrbitals|LUMO_element  AtomicOrbitals|LUMO_energy  \\\n",
      "id                                                             \n",
      "id0                           16                   -0.261676   \n",
      "id1                           74                   -0.220603   \n",
      "id2                           16                   -0.261676   \n",
      "id3                           34                   -0.245806   \n",
      "id4                           47                   -0.157407   \n",
      "id5                           47                   -0.298706   \n",
      "id6                           16                   -0.261676   \n",
      "id7                           34                   -0.245806   \n",
      "id8                           80                   -0.205137   \n",
      "id9                           53                   -0.267904   \n",
      "\n",
      "     AtomicOrbitals|gap_AO  \\\n",
      "id                           \n",
      "id0               0.000000   \n",
      "id1               0.000000   \n",
      "id2               0.000000   \n",
      "id3               0.000000   \n",
      "id4               0.000000   \n",
      "id5               0.000000   \n",
      "id6               0.000000   \n",
      "id7               0.000000   \n",
      "id8               0.062767   \n",
      "id9               0.030802   \n",
      "\n",
      "     AtomicPackingEfficiency|mean simul. packing efficiency  \\\n",
      "id                                                            \n",
      "id0                                           0.010948        \n",
      "id1                                                NaN        \n",
      "id2                                           0.023831        \n",
      "id3                                          -0.003186        \n",
      "id4                                                NaN        \n",
      "id5                                          -0.019523        \n",
      "id6                                          -0.002158        \n",
      "id7                                           0.026591        \n",
      "id8                                                NaN        \n",
      "id9                                                NaN        \n",
      "\n",
      "     AtomicPackingEfficiency|mean abs simul. packing efficiency  \\\n",
      "id                                                                \n",
      "id0                                           0.010948            \n",
      "id1                                                NaN            \n",
      "id2                                           0.026978            \n",
      "id3                                           0.009180            \n",
      "id4                                                NaN            \n",
      "id5                                           0.024549            \n",
      "id6                                           0.019719            \n",
      "id7                                           0.026591            \n",
      "id8                                                NaN            \n",
      "id9                                                NaN            \n",
      "\n",
      "     AtomicPackingEfficiency|dist from 1 clusters |APE| < 0.010  ...  \\\n",
      "id                                                               ...   \n",
      "id0                                           0.046771           ...   \n",
      "id1                                           0.816941           ...   \n",
      "id2                                           0.029648           ...   \n",
      "id3                                           0.050492           ...   \n",
      "id4                                           0.353553           ...   \n",
      "id5                                           0.023570           ...   \n",
      "id6                                           0.067344           ...   \n",
      "id7                                           0.047970           ...   \n",
      "id8                                           0.699854           ...   \n",
      "id9                                           0.220360           ...   \n",
      "\n",
      "     ValenceOrbital|avg s valence electrons  \\\n",
      "id                                            \n",
      "id0                                1.400000   \n",
      "id1                                1.952381   \n",
      "id2                                1.931034   \n",
      "id3                                1.931034   \n",
      "id4                                1.500000   \n",
      "id5                                1.666667   \n",
      "id6                                1.666667   \n",
      "id7                                1.666667   \n",
      "id8                                1.714286   \n",
      "id9                                1.857143   \n",
      "\n",
      "     ValenceOrbital|avg p valence electrons  \\\n",
      "id                                            \n",
      "id0                                1.600000   \n",
      "id1                                3.333333   \n",
      "id2                                2.965517   \n",
      "id3                                2.965517   \n",
      "id4                                1.500000   \n",
      "id5                                2.500000   \n",
      "id6                                2.333333   \n",
      "id7                                2.333333   \n",
      "id8                                2.857143   \n",
      "id9                                3.619048   \n",
      "\n",
      "     ValenceOrbital|avg d valence electrons  \\\n",
      "id                                            \n",
      "id0                                6.000000   \n",
      "id1                                8.285714   \n",
      "id2                                4.482759   \n",
      "id3                               10.000000   \n",
      "id4                                7.500000   \n",
      "id5                                5.000000   \n",
      "id6                                5.000000   \n",
      "id7                               10.000000   \n",
      "id8                               10.000000   \n",
      "id9                                3.095238   \n",
      "\n",
      "     ValenceOrbital|avg f valence electrons  \\\n",
      "id                                            \n",
      "id0                                5.600000   \n",
      "id1                                4.000000   \n",
      "id2                                3.379310   \n",
      "id3                                3.379310   \n",
      "id4                                0.000000   \n",
      "id5                                2.333333   \n",
      "id6                                0.000000   \n",
      "id7                                0.000000   \n",
      "id8                                2.000000   \n",
      "id9                                0.000000   \n",
      "\n",
      "     ValenceOrbital|frac s valence electrons  \\\n",
      "id                                             \n",
      "id0                                 0.095890   \n",
      "id1                                 0.111111   \n",
      "id2                                 0.151351   \n",
      "id3                                 0.105660   \n",
      "id4                                 0.142857   \n",
      "id5                                 0.144928   \n",
      "id6                                 0.185185   \n",
      "id7                                 0.119048   \n",
      "id8                                 0.103448   \n",
      "id9                                 0.216667   \n",
      "\n",
      "     ValenceOrbital|frac p valence electrons  \\\n",
      "id                                             \n",
      "id0                                 0.109589   \n",
      "id1                                 0.189702   \n",
      "id2                                 0.232432   \n",
      "id3                                 0.162264   \n",
      "id4                                 0.142857   \n",
      "id5                                 0.217391   \n",
      "id6                                 0.259259   \n",
      "id7                                 0.166667   \n",
      "id8                                 0.172414   \n",
      "id9                                 0.422222   \n",
      "\n",
      "     ValenceOrbital|frac d valence electrons  \\\n",
      "id                                             \n",
      "id0                                 0.410959   \n",
      "id1                                 0.471545   \n",
      "id2                                 0.351351   \n",
      "id3                                 0.547170   \n",
      "id4                                 0.714286   \n",
      "id5                                 0.434783   \n",
      "id6                                 0.555556   \n",
      "id7                                 0.714286   \n",
      "id8                                 0.603448   \n",
      "id9                                 0.361111   \n",
      "\n",
      "     ValenceOrbital|frac f valence electrons  YangSolidSolution|Yang omega  \\\n",
      "id                                                                           \n",
      "id0                                 0.383562                  8.220356e+06   \n",
      "id1                                 0.227642                  8.303887e+06   \n",
      "id2                                 0.264865                  5.739199e+06   \n",
      "id3                                 0.184906                  6.286222e+06   \n",
      "id4                                 0.000000                  1.098609e+07   \n",
      "id5                                 0.202899                  4.454794e+06   \n",
      "id6                                 0.000000                  6.791996e+06   \n",
      "id7                                 0.000000                  7.236150e+06   \n",
      "id8                                 0.120690                  4.825962e+06   \n",
      "id9                                 0.000000                  2.904143e+06   \n",
      "\n",
      "     YangSolidSolution|Yang delta  \n",
      "id                                 \n",
      "id0                      0.155366  \n",
      "id1                           NaN  \n",
      "id2                      0.239372  \n",
      "id3                      0.182649  \n",
      "id4                           NaN  \n",
      "id5                      0.405762  \n",
      "id6                      0.155661  \n",
      "id7                      0.101637  \n",
      "id8                           NaN  \n",
      "id9                           NaN  \n",
      "\n",
      "[10 rows x 267 columns]\n"
     ]
    }
   ],
   "source": [
    "data.featurize()\n",
    "print(data.df_featurized)"
   ]
  },
  {
   "cell_type": "code",
   "execution_count": null,
   "metadata": {},
   "outputs": [],
   "source": []
  }
 ],
 "metadata": {
  "kernelspec": {
   "display_name": "materials",
   "language": "python",
   "name": "python3"
  },
  "language_info": {
   "codemirror_mode": {
    "name": "ipython",
    "version": 3
   },
   "file_extension": ".py",
   "mimetype": "text/x-python",
   "name": "python",
   "nbconvert_exporter": "python",
   "pygments_lexer": "ipython3",
   "version": "3.9.16"
  }
 },
 "nbformat": 4,
 "nbformat_minor": 2
}
