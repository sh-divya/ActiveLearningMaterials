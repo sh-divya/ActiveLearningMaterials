{
 "cells": [
  {
   "cell_type": "code",
   "execution_count": 14,
   "metadata": {
    "metadata": {}
   },
   "outputs": [],
   "source": [
    "from dave.proxies.data import CrystalFeat\n",
    "from sklearn.ensemble import RandomForestRegressor\n",
    "from sklearn.neural_network import MLPRegressor\n",
    "from sklearn.model_selection import GridSearchCV\n",
    "from sklearn.model_selection import cross_validate\n",
    "from pathlib import Path\n",
    "import torch\n",
    "import numpy as np"
   ]
  },
  {
   "cell_type": "code",
   "execution_count": 15,
   "metadata": {
    "metadata": {}
   },
   "outputs": [
    {
     "name": "stdout",
     "output_type": "stream",
     "text": [
      "/home/minion/Downloads/ic_data/nrcc_ionic_conductivity\n"
     ]
    }
   ],
   "source": [
    "BASE_PATH = Path(\".\").resolve().parent\n",
    "DATA_PATH = BASE_PATH.parent / \"ic_data\" / \"nrcc_ionic_conductivity\"\n",
    "print(DATA_PATH)"
   ]
  },
  {
   "cell_type": "code",
   "execution_count": 16,
   "metadata": {
    "metadata": {}
   },
   "outputs": [
    {
     "name": "stdout",
     "output_type": "stream",
     "text": [
      "86.0\n"
     ]
    }
   ],
   "source": [
    "x_mean = torch.load(str(DATA_PATH / \"x.mean\"))\n",
    "x_std = torch.load(str(DATA_PATH / \"x.std\"))\n",
    "\n",
    "trainset = CrystalFeat(root=str(DATA_PATH), target=\"Ionic conductivity (S cm-1)\", subset=\"train\", scalex={\"mean\":x_mean, \"std\":x_std})\n",
    "x_train = []\n",
    "y_train = []\n",
    "\n",
    "for i, (x, y) in enumerate(trainset):\n",
    "    a, b, c = x\n",
    "    # print(a[a != 0])\n",
    "    # if i == 10:\n",
    "    #     break\n",
    "    b = b.unsqueeze(-1)\n",
    "    x = torch.cat((a, b, c), dim=-1)\n",
    "    x_train.append(x.numpy())\n",
    "    y_train.append(y.numpy())\n",
    "idx = np.arange(len(x_train))\n",
    "print(max(idx) / 5)\n",
    "np.random.shuffle(idx)\n",
    "x_train = np.array(x_train)[idx]\n",
    "y_train = np.array(y_train)[idx]"
   ]
  },
  {
   "cell_type": "code",
   "execution_count": 25,
   "metadata": {
    "metadata": {}
   },
   "outputs": [
    {
     "name": "stdout",
     "output_type": "stream",
     "text": [
      "1.3860985837983129\n"
     ]
    }
   ],
   "source": [
    "# hparams = {\n",
    "#     \"n_estimators\": [50, 100, 150],\n",
    "#     \"max_depth\": [12, 24, 36],\n",
    "#     \"max_features\": [\"log2\", \"sqrt\"],\n",
    "#     \"min_samples_leaf\": [2, 3, 4, 5]\n",
    "# }\n",
    "\n",
    "hparams = {\n",
    "    'max_depth': 12,\n",
    "    'max_features': 'sqrt',\n",
    "    'min_samples_leaf': 2,\n",
    "    'n_estimators': 50\n",
    "}\n",
    "\n",
    "model = RandomForestRegressor(**hparams)\n",
    "res = cross_validate(model, x_train, y_train, cv=5, scoring=\"neg_mean_absolute_error\")\n",
    "print(-np.mean((res[\"test_score\"])))\n",
    "# gs = GridSearchCV(estimator=model, param_grid=hparams, cv=5, scoring=\"\")\n",
    "# gs.fit(x_train, y_train)\n",
    "# best = gs.best_score_\n",
    "# print(best)\n",
    "# print(gs.best_estimator_)\n",
    "# print(gs.best_params_)\n",
    "# y_train = np.array(y_train).reshape(-1, 1)\n",
    "# y_pred = model.predict(x_train)\n"
   ]
  },
  {
   "cell_type": "code",
   "execution_count": 33,
   "metadata": {},
   "outputs": [
    {
     "name": "stderr",
     "output_type": "stream",
     "text": [
      "/home/minion/anaconda3/envs/materials/lib/python3.9/site-packages/sklearn/neural_network/_multilayer_perceptron.py:690: ConvergenceWarning: Stochastic Optimizer: Maximum iterations (40) reached and the optimization hasn't converged yet.\n",
      "  warnings.warn(\n",
      "/home/minion/anaconda3/envs/materials/lib/python3.9/site-packages/sklearn/neural_network/_multilayer_perceptron.py:690: ConvergenceWarning: Stochastic Optimizer: Maximum iterations (40) reached and the optimization hasn't converged yet.\n",
      "  warnings.warn(\n",
      "/home/minion/anaconda3/envs/materials/lib/python3.9/site-packages/sklearn/neural_network/_multilayer_perceptron.py:690: ConvergenceWarning: Stochastic Optimizer: Maximum iterations (40) reached and the optimization hasn't converged yet.\n",
      "  warnings.warn(\n",
      "/home/minion/anaconda3/envs/materials/lib/python3.9/site-packages/sklearn/neural_network/_multilayer_perceptron.py:690: ConvergenceWarning: Stochastic Optimizer: Maximum iterations (40) reached and the optimization hasn't converged yet.\n",
      "  warnings.warn(\n"
     ]
    },
    {
     "name": "stdout",
     "output_type": "stream",
     "text": [
      "1.7561132192611695\n"
     ]
    },
    {
     "name": "stderr",
     "output_type": "stream",
     "text": [
      "/home/minion/anaconda3/envs/materials/lib/python3.9/site-packages/sklearn/neural_network/_multilayer_perceptron.py:690: ConvergenceWarning: Stochastic Optimizer: Maximum iterations (40) reached and the optimization hasn't converged yet.\n",
      "  warnings.warn(\n"
     ]
    }
   ],
   "source": [
    "hparams = {\n",
    "    \"hidden_layer_sizes\": [128, 128, 128, 128, 128],\n",
    "    \"activation\": \"relu\",\n",
    "    \"solver\": \"adam\",\n",
    "    \"learning_rate_init\": 0.003,\n",
    "    # \"validation_fraction\" :0.2,\n",
    "    \"batch_size\": 128,\n",
    "    \"max_iter\": 40,\n",
    "    \"learning_rate\": \"adaptive\"\n",
    "}\n",
    "\n",
    "model = MLPRegressor(**hparams)\n",
    "res = cross_validate(model, x_train, y_train, cv=5, scoring=\"neg_mean_absolute_error\")\n",
    "print(-np.mean((res[\"test_score\"])))\n",
    "# gs = GridSearchCV(estimator=model, param_grid=hparams, cv=5)\n",
    "# model.fit(x_train[-86:], y_train[-86:])\n",
    "# model.score(x_train[-86:], y_train[-86:])\n",
    "# best = gs.best_score_\n",
    "# print(best)\n",
    "# print(gs.best_estimator_)\n",
    "# print(gs.best_params_)"
   ]
  },
  {
   "cell_type": "code",
   "execution_count": null,
   "metadata": {},
   "outputs": [],
   "source": []
  }
 ],
 "metadata": {
  "kernelspec": {
   "display_name": "materials",
   "language": "python",
   "name": "python3"
  },
  "language_info": {
   "codemirror_mode": {
    "name": "ipython",
    "version": 3
   },
   "file_extension": ".py",
   "mimetype": "text/x-python",
   "name": "python",
   "nbconvert_exporter": "python",
   "pygments_lexer": "ipython3",
   "version": "3.9.16"
  }
 },
 "nbformat": 4,
 "nbformat_minor": 2
}
